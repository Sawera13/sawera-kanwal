{
  "cells": [
    {
      "cell_type": "markdown",
      "id": "6d4d88da",
      "metadata": {
        "id": "6d4d88da"
      },
      "source": [
        "# CNN"
      ]
    },
    {
      "cell_type": "code",
      "execution_count": null,
      "id": "9xQEelusrn6s",
      "metadata": {
        "id": "9xQEelusrn6s"
      },
      "outputs": [],
      "source": [
        "import tensorflow as tf\n",
        "from tensorflow.keras.preprocessing.image import ImageDataGenerator\n",
        "from tensorflow.keras.layers import Conv2D\n",
        "import numpy as np\n",
        "from tensorflow.keras.preprocessing import image"
      ]
    },
    {
      "cell_type": "code",
      "execution_count": null,
      "id": "y3I8DqoEQJWv",
      "metadata": {
        "id": "y3I8DqoEQJWv"
      },
      "outputs": [],
      "source": []
    },
    {
      "cell_type": "code",
      "execution_count": 1,
      "id": "8icpZnxnY7Mn",
      "metadata": {
        "id": "8icpZnxnY7Mn",
        "colab": {
          "base_uri": "https://localhost:8080/"
        },
        "outputId": "a8c9db1e-28c5-4d20-aba5-806a3137124a"
      },
      "outputs": [
        {
          "output_type": "stream",
          "name": "stdout",
          "text": [
            "Mounted at /content/drive\n"
          ]
        }
      ],
      "source": [
        "from google.colab import drive\n",
        "drive.mount('/content/drive')"
      ]
    },
    {
      "cell_type": "code",
      "execution_count": null,
      "id": "MtMmKBwJPJqK",
      "metadata": {
        "id": "MtMmKBwJPJqK"
      },
      "outputs": [],
      "source": [
        "train_datagen = ImageDataGenerator(rescale = 1./255,\n",
        "                                   shear_range = 0.2,\n",
        "                                   zoom_range = 0.2,\n",
        "                                   horizontal_flip = True)"
      ]
    },
    {
      "cell_type": "code",
      "execution_count": null,
      "id": "Wz1d0aHGPJtR",
      "metadata": {
        "id": "Wz1d0aHGPJtR",
        "outputId": "fa49ec89-bac6-4cb6-8b21-372e8b72e56c"
      },
      "outputs": [
        {
          "name": "stdout",
          "output_type": "stream",
          "text": [
            "Found 1322 images belonging to 1 classes.\n",
            "Found 150 images belonging to 1 classes.\n"
          ]
        }
      ],
      "source": [
        "training_set = train_datagen.flow_from_directory('Train',\n",
        "                                                 target_size=  (64, 64),\n",
        "                                                 batch_size = 32,\n",
        "                                                 class_mode = 'categorical')\n",
        "\n",
        "# Preprocessing the Test set\n",
        "test_datagen = ImageDataGenerator(rescale = 1./255)\n",
        "test_set = test_datagen.flow_from_directory('Test',\n",
        "                                            target_size = (64, 64),\n",
        "                                            batch_size = 32,\n",
        "                                            class_mode = 'categorical')"
      ]
    },
    {
      "cell_type": "code",
      "execution_count": null,
      "id": "Ep8ERCKTPJwG",
      "metadata": {
        "id": "Ep8ERCKTPJwG"
      },
      "outputs": [],
      "source": [
        "# Initialising the CNN\n",
        "cnn = tf.keras.models.Sequential()\n",
        "\n",
        "# Step 1 - Convolution\n",
        "cnn.add(tf.keras.layers.Conv2D(filters=32,padding=\"same\",kernel_size=3, activation='relu', input_shape=[64, 64, 3]))\n",
        "\n",
        "# Step 2 - Pooling\n",
        "cnn.add(tf.keras.layers.MaxPool2D(pool_size=2, strides=2))\n",
        "\n",
        "# Adding a second convolutional layer\n",
        "cnn.add(tf.keras.layers.Conv2D(filters=32,padding='same',kernel_size=3, activation='relu'))\n",
        "cnn.add(tf.keras.layers.MaxPool2D(pool_size=2, strides=2))\n",
        "\n",
        "# Step 3 - Flattening\n",
        "cnn.add(tf.keras.layers.Flatten())\n",
        "\n",
        "# Step 4 - Full Connection\n",
        "cnn.add(tf.keras.layers.Dense(units=128, activation='relu'))\n",
        "\n",
        "# Step 5 - Output Layer\n",
        "cnn.add(tf.keras.layers.Dense(units=4, activation='softmax'))"
      ]
    },
    {
      "cell_type": "code",
      "execution_count": null,
      "id": "-cK2iWqfPJyk",
      "metadata": {
        "id": "-cK2iWqfPJyk",
        "outputId": "6569415b-76ac-452c-8cfe-5acef1517b3d"
      },
      "outputs": [
        {
          "name": "stdout",
          "output_type": "stream",
          "text": [
            "Model: \"sequential\"\n",
            "_________________________________________________________________\n",
            " Layer (type)                Output Shape              Param #   \n",
            "=================================================================\n",
            " conv2d (Conv2D)             (None, 64, 64, 32)        896       \n",
            "                                                                 \n",
            " max_pooling2d (MaxPooling2D  (None, 32, 32, 32)       0         \n",
            " )                                                               \n",
            "                                                                 \n",
            " conv2d_1 (Conv2D)           (None, 32, 32, 32)        9248      \n",
            "                                                                 \n",
            " max_pooling2d_1 (MaxPooling  (None, 16, 16, 32)       0         \n",
            " 2D)                                                             \n",
            "                                                                 \n",
            " flatten (Flatten)           (None, 8192)              0         \n",
            "                                                                 \n",
            " dense (Dense)               (None, 128)               1048704   \n",
            "                                                                 \n",
            " dense_1 (Dense)             (None, 4)                 516       \n",
            "                                                                 \n",
            "=================================================================\n",
            "Total params: 1,059,364\n",
            "Trainable params: 1,059,364\n",
            "Non-trainable params: 0\n",
            "_________________________________________________________________\n"
          ]
        }
      ],
      "source": [
        "cnn.summary()\n"
      ]
    },
    {
      "cell_type": "code",
      "execution_count": null,
      "id": "Cr3-x7G0PJ2G",
      "metadata": {
        "id": "Cr3-x7G0PJ2G",
        "scrolled": false,
        "outputId": "a81a73db-967e-4984-ffec-082a6c22465b"
      },
      "outputs": [
        {
          "name": "stdout",
          "output_type": "stream",
          "text": [
            "Epoch 1/10\n",
            "42/42 [==============================] - 222s 5s/step - loss: 262.7663 - accuracy: 0.0068 - val_loss: 529.1832 - val_accuracy: 0.0000e+00\n",
            "Epoch 2/10\n",
            "42/42 [==============================] - 239s 6s/step - loss: 916.4030 - accuracy: 0.1959 - val_loss: 1751.5935 - val_accuracy: 0.0000e+00\n",
            "Epoch 3/10\n",
            "42/42 [==============================] - 303s 7s/step - loss: 6804.1084 - accuracy: 0.2186 - val_loss: 17108.8984 - val_accuracy: 1.0000\n",
            "Epoch 4/10\n",
            "42/42 [==============================] - 298s 7s/step - loss: 36401.7539 - accuracy: 0.2784 - val_loss: 103947.2656 - val_accuracy: 0.0000e+00\n",
            "Epoch 5/10\n",
            "42/42 [==============================] - 299s 7s/step - loss: 95070.3672 - accuracy: 0.2451 - val_loss: 89708.3203 - val_accuracy: 0.0000e+00\n",
            "Epoch 6/10\n",
            "42/42 [==============================] - 298s 7s/step - loss: 191547.2500 - accuracy: 0.2496 - val_loss: 237005.2344 - val_accuracy: 0.0000e+00\n",
            "Epoch 7/10\n",
            "42/42 [==============================] - 297s 7s/step - loss: 365803.0000 - accuracy: 0.2421 - val_loss: 592331.4375 - val_accuracy: 0.0000e+00\n",
            "Epoch 8/10\n",
            "42/42 [==============================] - 295s 7s/step - loss: 683607.3125 - accuracy: 0.2496 - val_loss: 644765.0000 - val_accuracy: 0.0000e+00\n",
            "Epoch 9/10\n",
            "42/42 [==============================] - 298s 7s/step - loss: 1139579.3750 - accuracy: 0.2421 - val_loss: 1911805.2500 - val_accuracy: 0.0000e+00\n",
            "Epoch 10/10\n",
            "42/42 [==============================] - 298s 7s/step - loss: 1442508.6250 - accuracy: 0.2693 - val_loss: 1208336.6250 - val_accuracy: 1.0000\n"
          ]
        },
        {
          "data": {
            "text/plain": [
              "<keras.callbacks.History at 0x160bd70f5b0>"
            ]
          },
          "execution_count": 6,
          "metadata": {},
          "output_type": "execute_result"
        }
      ],
      "source": [
        "# Compiling the CNN\n",
        "cnn.compile(optimizer = 'adam',loss = 'categorical_crossentropy', metrics = ['accuracy'])\n",
        "\n",
        "# Training the CNN on the Training set and evaluating it on the Test set\n",
        "cnn.fit(x = training_set, validation_data = test_set, epochs = 10)"
      ]
    },
    {
      "cell_type": "code",
      "execution_count": null,
      "id": "mxIu-a7Frn99",
      "metadata": {
        "id": "mxIu-a7Frn99",
        "outputId": "70c5af40-6632-4fa2-ba85-490b911c40ce"
      },
      "outputs": [
        {
          "name": "stdout",
          "output_type": "stream",
          "text": [
            "1/1 [==============================] - 0s 350ms/step\n"
          ]
        }
      ],
      "source": [
        "test_image = image.load_img('C:\\\\Users\\\\Dell\\\\Desktop\\\\DEEP\\\\Test\\\\Test\\\\Healthy\\\\8ddaa5a5caa5caa8.jpg',\n",
        "                            target_size = (64,64))\n",
        "test_image = image.img_to_array(test_image)\n",
        "test_image=test_image/255\n",
        "test_image = np.expand_dims(test_image, axis = 0)\n",
        "result = cnn.predict(test_image)"
      ]
    },
    {
      "cell_type": "code",
      "execution_count": null,
      "id": "lq5TvfbLPnO3",
      "metadata": {
        "id": "lq5TvfbLPnO3",
        "outputId": "c2fd30ec-7c91-4f15-ccd6-df3528cf6737"
      },
      "outputs": [
        {
          "data": {
            "text/plain": [
              "array([[1., 0., 0., 0.]], dtype=float32)"
            ]
          },
          "execution_count": 10,
          "metadata": {},
          "output_type": "execute_result"
        }
      ],
      "source": [
        "result\n"
      ]
    },
    {
      "cell_type": "code",
      "execution_count": null,
      "id": "EnA05YCvPnSN",
      "metadata": {
        "id": "EnA05YCvPnSN"
      },
      "outputs": [],
      "source": [
        "result = result.ravel()\n"
      ]
    },
    {
      "cell_type": "code",
      "execution_count": null,
      "id": "RwWd7wiZPnVx",
      "metadata": {
        "id": "RwWd7wiZPnVx",
        "outputId": "6d679888-74d7-4eb6-e461-4bc3004d9512"
      },
      "outputs": [
        {
          "data": {
            "text/plain": [
              "array([1., 0., 0., 0.], dtype=float32)"
            ]
          },
          "execution_count": 12,
          "metadata": {},
          "output_type": "execute_result"
        }
      ],
      "source": [
        "result\n"
      ]
    },
    {
      "cell_type": "code",
      "execution_count": null,
      "id": "ZgbbT0FIPtB5",
      "metadata": {
        "id": "ZgbbT0FIPtB5",
        "outputId": "de0fd584-b1d9-469a-eafa-cd52298884e5"
      },
      "outputs": [
        {
          "name": "stdout",
          "output_type": "stream",
          "text": [
            "Largest element is: 1.0\n"
          ]
        }
      ],
      "source": [
        "print(\"Largest element is:\", max(result))\n"
      ]
    },
    {
      "cell_type": "code",
      "execution_count": null,
      "id": "cHooMw5EPtEk",
      "metadata": {
        "id": "cHooMw5EPtEk",
        "outputId": "b8c89ac8-0a48-4f23-ff69-3231a71003de"
      },
      "outputs": [
        {
          "data": {
            "text/plain": [
              "array([1., 0., 0., 0.], dtype=float32)"
            ]
          },
          "execution_count": 14,
          "metadata": {},
          "output_type": "execute_result"
        }
      ],
      "source": [
        "result.sort\n",
        "result"
      ]
    },
    {
      "cell_type": "code",
      "execution_count": null,
      "id": "Agh82011PtH7",
      "metadata": {
        "id": "Agh82011PtH7"
      },
      "outputs": [],
      "source": [
        "result=result.tolist()\n"
      ]
    },
    {
      "cell_type": "code",
      "execution_count": null,
      "id": "4tI9QGZyroBc",
      "metadata": {
        "id": "4tI9QGZyroBc",
        "outputId": "def867b7-b269-4332-cbe0-79edee4d1847"
      },
      "outputs": [
        {
          "name": "stdout",
          "output_type": "stream",
          "text": [
            "Largest element present in given array: 1.0 And it belongs to freash_leaf class.\n"
          ]
        }
      ],
      "source": [
        "result1=[\"Heathy\",\"Powdery\",\"Rust\"]\n",
        "max = result[0];\n",
        "\n",
        "#Loop through the array\n",
        "for i in range(0, len(result)):\n",
        "    #Compare elements of array with max\n",
        "    if(result[i] > max):\n",
        "        max = result[i];\n",
        "\n",
        "print(\"Largest element present in given array: \" + str(max) +\" And it belongs to \" +str(result1[2]) +\" class.\");"
      ]
    },
    {
      "cell_type": "code",
      "execution_count": null,
      "id": "uJs28ukPP9Gw",
      "metadata": {
        "id": "uJs28ukPP9Gw"
      },
      "outputs": [],
      "source": []
    },
    {
      "cell_type": "code",
      "execution_count": null,
      "id": "KHJe-UBFP9KI",
      "metadata": {
        "id": "KHJe-UBFP9KI"
      },
      "outputs": [],
      "source": []
    },
    {
      "cell_type": "markdown",
      "id": "3a91d4f3",
      "metadata": {
        "id": "3a91d4f3"
      },
      "source": [
        "# Xception"
      ]
    },
    {
      "cell_type": "code",
      "execution_count": null,
      "id": "lZyHJqMrC1kO",
      "metadata": {
        "id": "lZyHJqMrC1kO"
      },
      "outputs": [],
      "source": [
        "# Import necessary libraries\n",
        "import tensorflow as tf\n",
        "from tensorflow.keras.preprocessing.image import ImageDataGenerator\n",
        "from tensorflow.keras.applications import Xception\n",
        "from tensorflow.keras import layers, models\n",
        "import matplotlib.pyplot as plt\n"
      ]
    },
    {
      "cell_type": "code",
      "execution_count": null,
      "id": "wz26p0_Trwbc",
      "metadata": {
        "id": "wz26p0_Trwbc"
      },
      "outputs": [],
      "source": [
        "# Define paths\n",
        "train_dir = '/content/drive/MyDrive/Train'\n",
        "valid_dir = '/content/drive/MyDrive/Validation'\n",
        "test_dir = '/content/drive/MyDrive/Test'\n"
      ]
    },
    {
      "cell_type": "code",
      "execution_count": null,
      "id": "mQNe87sRrweV",
      "metadata": {
        "colab": {
          "base_uri": "https://localhost:8080/"
        },
        "id": "mQNe87sRrweV",
        "outputId": "59bfbd60-1ee1-4307-b863-227e41bc665f"
      },
      "outputs": [
        {
          "name": "stdout",
          "output_type": "stream",
          "text": [
            "Found 1322 images belonging to 1 classes.\n",
            "Found 60 images belonging to 1 classes.\n"
          ]
        }
      ],
      "source": [
        "# Data processing and augmentation\n",
        "train_datagen = ImageDataGenerator(rescale=1./255,\n",
        "                                   shear_range=0.2,\n",
        "                                   zoom_range=0.2,\n",
        "                                   horizontal_flip=True)\n",
        "\n",
        "validation_datagen = ImageDataGenerator(rescale=1./255)\n",
        "\n",
        "train_generator = train_datagen.flow_from_directory(train_dir,\n",
        "                                                    target_size=(299, 299),  # Xception input size\n",
        "                                                    batch_size=32,\n",
        "                                                    class_mode='binary')\n",
        "\n",
        "validation_generator = validation_datagen.flow_from_directory(valid_dir,\n",
        "                                                              target_size=(299, 299),\n",
        "                                                              batch_size=32,\n",
        "                                                              class_mode='binary')\n",
        "\n"
      ]
    },
    {
      "cell_type": "code",
      "execution_count": null,
      "id": "CwsUNJOwrwg7",
      "metadata": {
        "colab": {
          "base_uri": "https://localhost:8080/"
        },
        "id": "CwsUNJOwrwg7",
        "outputId": "ba2a1e6d-1194-4813-d9da-9a58a269f6f0"
      },
      "outputs": [
        {
          "name": "stdout",
          "output_type": "stream",
          "text": [
            "Downloading data from https://storage.googleapis.com/tensorflow/keras-applications/xception/xception_weights_tf_dim_ordering_tf_kernels_notop.h5\n",
            "83683744/83683744 [==============================] - 5s 0us/step\n"
          ]
        }
      ],
      "source": [
        "# Xception model\n",
        "base_model = Xception(weights='imagenet', include_top=False, input_shape=(299, 299, 3))\n"
      ]
    },
    {
      "cell_type": "code",
      "execution_count": null,
      "id": "CKs8MGQurwkW",
      "metadata": {
        "id": "CKs8MGQurwkW"
      },
      "outputs": [],
      "source": [
        "\n",
        "# Create a custom model on top of Xception\n",
        "model = models.Sequential()\n",
        "model.add(base_model)\n",
        "model.add(layers.GlobalAveragePooling2D())\n",
        "model.add(layers.Dense(128, activation='relu'))\n",
        "model.add(layers.Dropout(0.5))\n",
        "model.add(layers.Dense(1, activation='sigmoid'))\n",
        "\n"
      ]
    },
    {
      "cell_type": "code",
      "execution_count": null,
      "id": "cFJGKQcIsNKt",
      "metadata": {
        "id": "cFJGKQcIsNKt"
      },
      "outputs": [],
      "source": [
        "# Compile the model\n",
        "model.compile(optimizer='adam',\n",
        "              loss='binary_crossentropy',\n",
        "              metrics=['accuracy'])\n"
      ]
    },
    {
      "cell_type": "code",
      "execution_count": null,
      "id": "oZtiTSobsNNh",
      "metadata": {
        "colab": {
          "base_uri": "https://localhost:8080/"
        },
        "id": "oZtiTSobsNNh",
        "outputId": "c0a39aba-70f2-4ad4-abad-a0c325c9f04e"
      },
      "outputs": [
        {
          "name": "stdout",
          "output_type": "stream",
          "text": [
            "Model: \"sequential\"\n",
            "_________________________________________________________________\n",
            " Layer (type)                Output Shape              Param #   \n",
            "=================================================================\n",
            " xception (Functional)       (None, 10, 10, 2048)      20861480  \n",
            "                                                                 \n",
            " global_average_pooling2d (  (None, 2048)              0         \n",
            " GlobalAveragePooling2D)                                         \n",
            "                                                                 \n",
            " dense (Dense)               (None, 128)               262272    \n",
            "                                                                 \n",
            " dropout (Dropout)           (None, 128)               0         \n",
            "                                                                 \n",
            " dense_1 (Dense)             (None, 1)                 129       \n",
            "                                                                 \n",
            "=================================================================\n",
            "Total params: 21123881 (80.58 MB)\n",
            "Trainable params: 21069353 (80.37 MB)\n",
            "Non-trainable params: 54528 (213.00 KB)\n",
            "_________________________________________________________________\n"
          ]
        }
      ],
      "source": [
        "# Model summary\n",
        "model.summary()\n",
        "\n"
      ]
    },
    {
      "cell_type": "code",
      "execution_count": null,
      "id": "aP5xbf9jsNQb",
      "metadata": {
        "colab": {
          "base_uri": "https://localhost:8080/"
        },
        "id": "aP5xbf9jsNQb",
        "outputId": "c8d2dc39-354f-492e-a52a-84492c9ec8a3"
      },
      "outputs": [
        {
          "name": "stdout",
          "output_type": "stream",
          "text": [
            "Epoch 1/10\n",
            "41/41 [==============================] - 1305s 31s/step - loss: 0.0289 - accuracy: 0.9775 - val_loss: 3.3521e-09 - val_accuracy: 1.0000\n",
            "Epoch 2/10\n",
            "41/41 [==============================] - 124s 3s/step - loss: 3.3818e-06 - accuracy: 1.0000 - val_loss: 4.5416e-10 - val_accuracy: 1.0000\n",
            "Epoch 3/10\n",
            "41/41 [==============================] - 122s 3s/step - loss: 2.0861e-06 - accuracy: 1.0000 - val_loss: 7.7776e-10 - val_accuracy: 1.0000\n",
            "Epoch 4/10\n",
            "41/41 [==============================] - 136s 3s/step - loss: 3.7291e-06 - accuracy: 1.0000 - val_loss: 1.4544e-09 - val_accuracy: 1.0000\n",
            "Epoch 5/10\n",
            "41/41 [==============================] - 141s 3s/step - loss: 6.8283e-07 - accuracy: 1.0000 - val_loss: 1.5846e-09 - val_accuracy: 1.0000\n",
            "Epoch 6/10\n",
            "41/41 [==============================] - 126s 3s/step - loss: 3.6388e-07 - accuracy: 1.0000 - val_loss: 1.6382e-09 - val_accuracy: 1.0000\n",
            "Epoch 7/10\n",
            "41/41 [==============================] - 124s 3s/step - loss: 2.1383e-07 - accuracy: 1.0000 - val_loss: 2.3034e-09 - val_accuracy: 1.0000\n",
            "Epoch 8/10\n",
            "41/41 [==============================] - 125s 3s/step - loss: 5.2767e-07 - accuracy: 1.0000 - val_loss: 2.7917e-09 - val_accuracy: 1.0000\n",
            "Epoch 9/10\n",
            "41/41 [==============================] - 135s 3s/step - loss: 1.7961e-07 - accuracy: 1.0000 - val_loss: 2.4505e-09 - val_accuracy: 1.0000\n",
            "Epoch 10/10\n",
            "41/41 [==============================] - ETA: 0s - loss: 3.6511e-07 - accuracy: 1.0000"
          ]
        }
      ],
      "source": [
        "# Train the model\n",
        "history = model.fit(train_generator,\n",
        "                    steps_per_epoch=train_generator.samples // train_generator.batch_size,\n",
        "                    epochs=10,\n",
        "                    validation_data=validation_generator,\n",
        "                    validation_steps=validation_generator.samples // validation_generator.batch_size)\n",
        "\n"
      ]
    },
    {
      "cell_type": "code",
      "execution_count": null,
      "id": "aujfB04OsNT4",
      "metadata": {
        "colab": {
          "background_save": true
        },
        "id": "aujfB04OsNT4",
        "outputId": "36cc1ca1-4b2c-40d6-9244-8c6d155b2e70"
      },
      "outputs": [
        {
          "data": {
            "image/png": "[encoded data removed]",
            "text/plain": [
              "<Figure size 640x480 with 1 Axes>"
            ]
          },
          "metadata": {},
          "output_type": "display_data"
        }
      ],
      "source": [
        "# Plot training history\n",
        "plt.plot(history.history['accuracy'], label='Training Accuracy')\n",
        "plt.plot(history.history['val_accuracy'], label='Validation Accuracy')\n",
        "plt.xlabel('Epochs')\n",
        "plt.ylabel('Accuracy')\n",
        "plt.legend()\n",
        "plt.show()\n",
        "\n"
      ]
    },
    {
      "cell_type": "code",
      "execution_count": null,
      "id": "0mIc3C1NscWf",
      "metadata": {
        "id": "0mIc3C1NscWf"
      },
      "outputs": [],
      "source": [
        "# Evaluate the model on the test set\n",
        "test_datagen = ImageDataGenerator(rescale=1./255)\n",
        "test_generator = test_datagen.flow_from_directory(test_dir,\n",
        "                                                  target_size=(299, 299),\n",
        "                                                  batch_size=32,\n",
        "                                                  class_mode='binary')\n",
        "\n",
        "test_loss, test_acc = model.evaluate(test_generator, steps=test_generator.samples // test_generator.batch_size)\n",
        "print(f'Test Accuracy: {test_acc * 100:.2f}%')\n"
      ]
    },
    {
      "cell_type": "code",
      "execution_count": null,
      "id": "422842b9",
      "metadata": {
        "id": "422842b9"
      },
      "outputs": [],
      "source": []
    },
    {
      "cell_type": "markdown",
      "id": "d28b2140",
      "metadata": {
        "id": "d28b2140"
      },
      "source": [
        "# InceptionV3"
      ]
    },
    {
      "cell_type": "code",
      "execution_count": 2,
      "id": "d53ae725",
      "metadata": {
        "id": "d53ae725"
      },
      "outputs": [],
      "source": [
        "import tensorflow as tf\n",
        "from tensorflow.keras.preprocessing.image import ImageDataGenerator\n",
        "from tensorflow.keras.applications import InceptionV3\n",
        "from tensorflow.keras import layers, models\n",
        "import matplotlib.pyplot as plt\n",
        "\n"
      ]
    },
    {
      "cell_type": "code",
      "execution_count": 3,
      "id": "5f3e1a8d",
      "metadata": {
        "id": "5f3e1a8d"
      },
      "outputs": [],
      "source": [
        "# Define paths\n",
        "train_dir = '/content/drive/MyDrive/Train'\n",
        "valid_dir = '/content/drive/MyDrive/Validation'\n",
        "test_dir = '/content/drive/MyDrive/Test'\n",
        "\n",
        "# Data processing and augmentation\n",
        "train_datagen = ImageDataGenerator(rescale=1./255,\n",
        "                                   shear_range=0.2,\n",
        "                                   zoom_range=0.2,\n",
        "                                   horizontal_flip=True)\n",
        "\n"
      ]
    },
    {
      "cell_type": "code",
      "execution_count": 4,
      "id": "8b226872",
      "metadata": {
        "colab": {
          "base_uri": "https://localhost:8080/"
        },
        "id": "8b226872",
        "outputId": "6da745fc-cb02-479d-c99a-ab646d1193a4"
      },
      "outputs": [
        {
          "output_type": "stream",
          "name": "stdout",
          "text": [
            "Found 1322 images belonging to 1 classes.\n",
            "Found 60 images belonging to 1 classes.\n"
          ]
        }
      ],
      "source": [
        "validation_datagen = ImageDataGenerator(rescale=1./255)\n",
        "\n",
        "train_generator = train_datagen.flow_from_directory(train_dir,\n",
        "                                                    target_size=(299, 299),  # InceptionV3 input size\n",
        "                                                    batch_size=32,\n",
        "                                                    class_mode='binary')\n",
        "\n",
        "validation_generator = validation_datagen.flow_from_directory(valid_dir,\n",
        "                                                              target_size=(299, 299),\n",
        "                                                              batch_size=32,\n",
        "                                                              class_mode='binary')\n",
        "\n"
      ]
    },
    {
      "cell_type": "code",
      "execution_count": 5,
      "id": "cd1352e5",
      "metadata": {
        "colab": {
          "base_uri": "https://localhost:8080/"
        },
        "id": "cd1352e5",
        "outputId": "fc81a136-623a-490e-d96e-3b13b7d367be"
      },
      "outputs": [
        {
          "output_type": "stream",
          "name": "stdout",
          "text": [
            "Downloading data from https://storage.googleapis.com/tensorflow/keras-applications/inception_v3/inception_v3_weights_tf_dim_ordering_tf_kernels_notop.h5\n",
            "87910968/87910968 [==============================] - 3s 0us/step\n"
          ]
        }
      ],
      "source": [
        "# InceptionV3 model\n",
        "base_model = InceptionV3(weights='imagenet', include_top=False, input_shape=(299, 299, 3))\n",
        "\n"
      ]
    },
    {
      "cell_type": "code",
      "execution_count": 6,
      "id": "8c1d6ab6",
      "metadata": {
        "id": "8c1d6ab6"
      },
      "outputs": [],
      "source": [
        "# Create a custom model on top of InceptionV3\n",
        "model = models.Sequential()\n",
        "model.add(base_model)\n",
        "model.add(layers.GlobalAveragePooling2D())\n",
        "model.add(layers.Dense(128, activation='relu'))\n",
        "model.add(layers.Dropout(0.5))\n",
        "model.add(layers.Dense(1, activation='sigmoid'))\n"
      ]
    },
    {
      "cell_type": "code",
      "execution_count": 7,
      "id": "d42b85b2",
      "metadata": {
        "id": "d42b85b2"
      },
      "outputs": [],
      "source": [
        "# Compile the model\n",
        "model.compile(optimizer='adam',\n",
        "              loss='binary_crossentropy',\n",
        "              metrics=['accuracy'])\n",
        "\n"
      ]
    },
    {
      "cell_type": "code",
      "execution_count": 8,
      "id": "c3ffb0b0",
      "metadata": {
        "colab": {
          "base_uri": "https://localhost:8080/"
        },
        "id": "c3ffb0b0",
        "outputId": "c289e166-6128-4e4c-8f3f-e44ab31272ce"
      },
      "outputs": [
        {
          "output_type": "stream",
          "name": "stdout",
          "text": [
            "Model: \"sequential\"\n",
            "_________________________________________________________________\n",
            " Layer (type)                Output Shape              Param #   \n",
            "=================================================================\n",
            " inception_v3 (Functional)   (None, 8, 8, 2048)        21802784  \n",
            "                                                                 \n",
            " global_average_pooling2d (  (None, 2048)              0         \n",
            " GlobalAveragePooling2D)                                         \n",
            "                                                                 \n",
            " dense (Dense)               (None, 128)               262272    \n",
            "                                                                 \n",
            " dropout (Dropout)           (None, 128)               0         \n",
            "                                                                 \n",
            " dense_1 (Dense)             (None, 1)                 129       \n",
            "                                                                 \n",
            "=================================================================\n",
            "Total params: 22065185 (84.17 MB)\n",
            "Trainable params: 22030753 (84.04 MB)\n",
            "Non-trainable params: 34432 (134.50 KB)\n",
            "_________________________________________________________________\n"
          ]
        }
      ],
      "source": [
        "# Model summary\n",
        "model.summary()\n"
      ]
    },
    {
      "cell_type": "code",
      "execution_count": 9,
      "id": "7149c9db",
      "metadata": {
        "colab": {
          "base_uri": "https://localhost:8080/"
        },
        "id": "7149c9db",
        "outputId": "437d6e06-5557-4397-93e9-f3d1dac1ab5c"
      },
      "outputs": [
        {
          "output_type": "stream",
          "name": "stdout",
          "text": [
            "Epoch 1/10\n",
            "41/41 [==============================] - 644s 14s/step - loss: 0.0118 - accuracy: 0.9992 - val_loss: 2.7417e-11 - val_accuracy: 1.0000\n",
            "Epoch 2/10\n",
            "41/41 [==============================] - 142s 3s/step - loss: 1.5522e-08 - accuracy: 1.0000 - val_loss: 7.2383e-12 - val_accuracy: 1.0000\n",
            "Epoch 3/10\n",
            "41/41 [==============================] - 129s 3s/step - loss: 3.1785e-08 - accuracy: 1.0000 - val_loss: 4.1288e-11 - val_accuracy: 1.0000\n",
            "Epoch 4/10\n",
            "41/41 [==============================] - 128s 3s/step - loss: 8.7803e-09 - accuracy: 1.0000 - val_loss: 5.5210e-11 - val_accuracy: 1.0000\n",
            "Epoch 5/10\n",
            "41/41 [==============================] - 120s 3s/step - loss: 6.4695e-08 - accuracy: 1.0000 - val_loss: 9.4019e-11 - val_accuracy: 1.0000\n",
            "Epoch 6/10\n",
            "41/41 [==============================] - 126s 3s/step - loss: 1.1095e-08 - accuracy: 1.0000 - val_loss: 2.8027e-10 - val_accuracy: 1.0000\n",
            "Epoch 7/10\n",
            "41/41 [==============================] - 123s 3s/step - loss: 1.8944e-08 - accuracy: 1.0000 - val_loss: 1.2558e-10 - val_accuracy: 1.0000\n",
            "Epoch 8/10\n",
            "41/41 [==============================] - 119s 3s/step - loss: 4.1895e-08 - accuracy: 1.0000 - val_loss: 2.1635e-10 - val_accuracy: 1.0000\n",
            "Epoch 9/10\n",
            "41/41 [==============================] - 117s 3s/step - loss: 1.5276e-08 - accuracy: 1.0000 - val_loss: 1.2815e-09 - val_accuracy: 1.0000\n",
            "Epoch 10/10\n",
            "41/41 [==============================] - 120s 3s/step - loss: 2.3571e-08 - accuracy: 1.0000 - val_loss: 1.0252e-09 - val_accuracy: 1.0000\n"
          ]
        }
      ],
      "source": [
        "# Train the model\n",
        "history = model.fit(train_generator,\n",
        "                    steps_per_epoch=train_generator.samples // train_generator.batch_size,\n",
        "                    epochs=10,\n",
        "                    validation_data=validation_generator,\n",
        "                    validation_steps=validation_generator.samples // validation_generator.batch_size)\n",
        "\n",
        "\n"
      ]
    },
    {
      "cell_type": "code",
      "execution_count": 10,
      "id": "acab683c",
      "metadata": {
        "colab": {
          "base_uri": "https://localhost:8080/",
          "height": 449
        },
        "id": "acab683c",
        "outputId": "6d9eaed7-5264-49e3-b153-d4b259588ec0"
      },
      "outputs": [
        {
          "output_type": "display_data",
          "data": {
            "text/plain": [
              "<Figure size 640x480 with 1 Axes>"
            ],
            "image/png": "[encoded data removed]"
          },
          "metadata": {}
        }
      ],
      "source": [
        "# Plot training history\n",
        "plt.plot(history.history['accuracy'], label='Training Accuracy')\n",
        "plt.plot(history.history['val_accuracy'], label='Validation Accuracy')\n",
        "plt.xlabel('Epochs')\n",
        "plt.ylabel('Accuracy')\n",
        "plt.legend()\n",
        "plt.show()\n",
        "\n"
      ]
    },
    {
      "cell_type": "code",
      "execution_count": 11,
      "id": "67d4df36",
      "metadata": {
        "colab": {
          "base_uri": "https://localhost:8080/"
        },
        "id": "67d4df36",
        "outputId": "a855734a-e5e2-473b-b41d-213f9ae7d81b"
      },
      "outputs": [
        {
          "output_type": "stream",
          "name": "stdout",
          "text": [
            "Found 150 images belonging to 1 classes.\n",
            "4/4 [==============================] - 59s 19s/step - loss: 3.2246e-10 - accuracy: 1.0000\n",
            "Test Accuracy: 100.00%\n"
          ]
        }
      ],
      "source": [
        "# Evaluate the model on the test set\n",
        "test_datagen = ImageDataGenerator(rescale=1./255)\n",
        "test_generator = test_datagen.flow_from_directory(test_dir,\n",
        "                                                  target_size=(299, 299),\n",
        "                                                  batch_size=32,\n",
        "                                                  class_mode='binary')\n",
        "\n",
        "test_loss, test_acc = model.evaluate(test_generator, steps=test_generator.samples // test_generator.batch_size)\n",
        "print(f'Test Accuracy: {test_acc * 100:.2f}%')"
      ]
    },
    {
      "cell_type": "code",
      "execution_count": null,
      "id": "c0552e84",
      "metadata": {
        "id": "c0552e84"
      },
      "outputs": [],
      "source": []
    },
    {
      "cell_type": "markdown",
      "id": "ae4c2288",
      "metadata": {
        "id": "ae4c2288"
      },
      "source": [
        "# EfficientNet"
      ]
    },
    {
      "cell_type": "code",
      "execution_count": 3,
      "id": "1399e00b",
      "metadata": {
        "id": "1399e00b"
      },
      "outputs": [],
      "source": [
        "import tensorflow as tf\n",
        "from tensorflow.keras.preprocessing.image import ImageDataGenerator\n",
        "from tensorflow.keras.applications import EfficientNetB0\n",
        "from tensorflow.keras import layers, models\n",
        "import matplotlib.pyplot as plt\n",
        "\n"
      ]
    },
    {
      "cell_type": "code",
      "execution_count": 4,
      "id": "b505cd6c",
      "metadata": {
        "id": "b505cd6c"
      },
      "outputs": [],
      "source": [
        "# Define paths\n",
        "train_dir = '/content/drive/MyDrive/Train'\n",
        "valid_dir = '/content/drive/MyDrive/Validation'\n",
        "test_dir = '/content/drive/MyDrive/Test'"
      ]
    },
    {
      "cell_type": "code",
      "execution_count": 5,
      "id": "19b3a2e4",
      "metadata": {
        "colab": {
          "base_uri": "https://localhost:8080/"
        },
        "id": "19b3a2e4",
        "outputId": "4a1ed2c9-10ff-4200-992a-6a6bc435dd50"
      },
      "outputs": [
        {
          "output_type": "stream",
          "name": "stdout",
          "text": [
            "Found 1322 images belonging to 1 classes.\n",
            "Found 60 images belonging to 1 classes.\n"
          ]
        }
      ],
      "source": [
        "# Data processing and augmentation\n",
        "train_datagen = ImageDataGenerator(rescale=1./255,\n",
        "                                   shear_range=0.2,\n",
        "                                   zoom_range=0.2,\n",
        "                                   horizontal_flip=True)\n",
        "\n",
        "validation_datagen = ImageDataGenerator(rescale=1./255)\n",
        "\n",
        "train_generator = train_datagen.flow_from_directory(train_dir,\n",
        "                                                    target_size=(224, 224),  # EfficientNet input size\n",
        "                                                    batch_size=32,\n",
        "                                                    class_mode='binary')\n",
        "\n",
        "validation_generator = validation_datagen.flow_from_directory(valid_dir,\n",
        "                                                              target_size=(224, 224),\n",
        "                                                              batch_size=32,\n",
        "                                                              class_mode='binary')\n",
        "\n"
      ]
    },
    {
      "cell_type": "code",
      "execution_count": 6,
      "id": "584cc57a",
      "metadata": {
        "colab": {
          "base_uri": "https://localhost:8080/"
        },
        "id": "584cc57a",
        "outputId": "555272a0-df04-4f8c-f8af-9e3551885d47"
      },
      "outputs": [
        {
          "output_type": "stream",
          "name": "stdout",
          "text": [
            "Downloading data from https://storage.googleapis.com/keras-applications/efficientnetb0_notop.h5\n",
            "16705208/16705208 [==============================] - 0s 0us/step\n"
          ]
        }
      ],
      "source": [
        "# EfficientNetB0 model\n",
        "base_model = EfficientNetB0(weights='imagenet', include_top=False, input_shape=(224, 224, 3))\n",
        "\n"
      ]
    },
    {
      "cell_type": "code",
      "execution_count": 7,
      "id": "3c3df080",
      "metadata": {
        "id": "3c3df080"
      },
      "outputs": [],
      "source": [
        "# Create a custom model on top of EfficientNetB0\n",
        "model = models.Sequential()\n",
        "model.add(base_model)\n",
        "model.add(layers.GlobalAveragePooling2D())\n",
        "model.add(layers.Dense(128, activation='relu'))\n",
        "model.add(layers.Dropout(0.5))\n",
        "model.add(layers.Dense(1, activation='sigmoid'))\n",
        "\n"
      ]
    },
    {
      "cell_type": "code",
      "execution_count": 8,
      "id": "ca404d20",
      "metadata": {
        "id": "ca404d20"
      },
      "outputs": [],
      "source": [
        "# Compile the model\n",
        "model.compile(optimizer='adam',\n",
        "              loss='binary_crossentropy',\n",
        "              metrics=['accuracy'])\n",
        "\n"
      ]
    },
    {
      "cell_type": "code",
      "execution_count": 9,
      "id": "bf24acf7",
      "metadata": {
        "colab": {
          "base_uri": "https://localhost:8080/"
        },
        "id": "bf24acf7",
        "outputId": "fec89207-8143-483a-e0c7-18a3748c827e"
      },
      "outputs": [
        {
          "output_type": "stream",
          "name": "stdout",
          "text": [
            "Model: \"sequential\"\n",
            "_________________________________________________________________\n",
            " Layer (type)                Output Shape              Param #   \n",
            "=================================================================\n",
            " efficientnetb0 (Functional  (None, 7, 7, 1280)        4049571   \n",
            " )                                                               \n",
            "                                                                 \n",
            " global_average_pooling2d (  (None, 1280)              0         \n",
            " GlobalAveragePooling2D)                                         \n",
            "                                                                 \n",
            " dense (Dense)               (None, 128)               163968    \n",
            "                                                                 \n",
            " dropout (Dropout)           (None, 128)               0         \n",
            "                                                                 \n",
            " dense_1 (Dense)             (None, 1)                 129       \n",
            "                                                                 \n",
            "=================================================================\n",
            "Total params: 4213668 (16.07 MB)\n",
            "Trainable params: 4171645 (15.91 MB)\n",
            "Non-trainable params: 42023 (164.16 KB)\n",
            "_________________________________________________________________\n"
          ]
        }
      ],
      "source": [
        "# Model summary\n",
        "model.summary()\n"
      ]
    },
    {
      "cell_type": "code",
      "execution_count": 10,
      "id": "716a0bdd",
      "metadata": {
        "colab": {
          "base_uri": "https://localhost:8080/"
        },
        "id": "716a0bdd",
        "outputId": "b0f47a5d-6474-4e5d-df52-9a6fdfef404e"
      },
      "outputs": [
        {
          "output_type": "stream",
          "name": "stdout",
          "text": [
            "Epoch 1/10\n",
            "41/41 [==============================] - 456s 10s/step - loss: 0.0329 - accuracy: 0.9860 - val_loss: 1.0248e-09 - val_accuracy: 1.0000\n",
            "Epoch 2/10\n",
            "41/41 [==============================] - 98s 2s/step - loss: 6.7285e-06 - accuracy: 1.0000 - val_loss: 1.3034e-06 - val_accuracy: 1.0000\n",
            "Epoch 3/10\n",
            "41/41 [==============================] - 102s 2s/step - loss: 2.5152e-06 - accuracy: 1.0000 - val_loss: 0.0195 - val_accuracy: 1.0000\n",
            "Epoch 4/10\n",
            "41/41 [==============================] - 104s 3s/step - loss: 3.7654e-06 - accuracy: 1.0000 - val_loss: 0.1122 - val_accuracy: 1.0000\n",
            "Epoch 5/10\n",
            "41/41 [==============================] - 99s 2s/step - loss: 1.4666e-06 - accuracy: 1.0000 - val_loss: 0.0741 - val_accuracy: 1.0000\n",
            "Epoch 6/10\n",
            "41/41 [==============================] - 100s 2s/step - loss: 1.6034e-06 - accuracy: 1.0000 - val_loss: 0.0096 - val_accuracy: 1.0000\n",
            "Epoch 7/10\n",
            "41/41 [==============================] - 99s 2s/step - loss: 1.9049e-06 - accuracy: 1.0000 - val_loss: 0.0013 - val_accuracy: 1.0000\n",
            "Epoch 8/10\n",
            "41/41 [==============================] - 107s 3s/step - loss: 3.0636e-06 - accuracy: 1.0000 - val_loss: 2.8378e-05 - val_accuracy: 1.0000\n",
            "Epoch 9/10\n",
            "41/41 [==============================] - 100s 2s/step - loss: 2.3764e-06 - accuracy: 1.0000 - val_loss: 2.0014e-05 - val_accuracy: 1.0000\n",
            "Epoch 10/10\n",
            "41/41 [==============================] - 101s 2s/step - loss: 3.8434e-06 - accuracy: 1.0000 - val_loss: 2.2625e-06 - val_accuracy: 1.0000\n"
          ]
        }
      ],
      "source": [
        "# Train the model\n",
        "history = model.fit(train_generator,\n",
        "                    steps_per_epoch=train_generator.samples // train_generator.batch_size,\n",
        "                    epochs=10,\n",
        "                    validation_data=validation_generator,\n",
        "                    validation_steps=validation_generator.samples // validation_generator.batch_size)\n"
      ]
    },
    {
      "cell_type": "code",
      "execution_count": 11,
      "id": "cff982b8",
      "metadata": {
        "colab": {
          "base_uri": "https://localhost:8080/",
          "height": 449
        },
        "id": "cff982b8",
        "outputId": "12e33a09-2870-4845-dd9d-77ae650585ed"
      },
      "outputs": [
        {
          "output_type": "display_data",
          "data": {
            "text/plain": [
              "<Figure size 640x480 with 1 Axes>"
            ],
            "image/png": "[encoded data removed]"
          },
          "metadata": {}
        }
      ],
      "source": [
        "# Plot training history\n",
        "plt.plot(history.history['accuracy'], label='Training Accuracy')\n",
        "plt.plot(history.history['val_accuracy'], label='Validation Accuracy')\n",
        "plt.xlabel('Epochs')\n",
        "plt.ylabel('Accuracy')\n",
        "plt.legend()\n",
        "plt.show()\n"
      ]
    },
    {
      "cell_type": "code",
      "execution_count": 12,
      "id": "acd1daeb",
      "metadata": {
        "colab": {
          "base_uri": "https://localhost:8080/"
        },
        "id": "acd1daeb",
        "outputId": "6ab57157-59d5-4be2-d21d-29ee3e2bdc20"
      },
      "outputs": [
        {
          "output_type": "stream",
          "name": "stdout",
          "text": [
            "Found 150 images belonging to 1 classes.\n",
            "4/4 [==============================] - 41s 13s/step - loss: 9.5159e-07 - accuracy: 1.0000\n",
            "Test Accuracy: 100.00%\n"
          ]
        }
      ],
      "source": [
        "# Evaluate the model on the test set\n",
        "test_datagen = ImageDataGenerator(rescale=1./255)\n",
        "test_generator = test_datagen.flow_from_directory(test_dir,\n",
        "                                                  target_size=(224, 224),\n",
        "                                                  batch_size=32,\n",
        "                                                  class_mode='binary')\n",
        "\n",
        "test_loss, test_acc = model.evaluate(test_generator, steps=test_generator.samples // test_generator.batch_size)\n",
        "print(f'Test Accuracy: {test_acc * 100:.2f}%')\n"
      ]
    },
    {
      "cell_type": "code",
      "execution_count": null,
      "id": "10731c12",
      "metadata": {
        "id": "10731c12"
      },
      "outputs": [],
      "source": []
    },
    {
      "cell_type": "code",
      "execution_count": null,
      "id": "002ef66e",
      "metadata": {
        "id": "002ef66e"
      },
      "outputs": [],
      "source": []
    }
  ],
  "metadata": {
    "accelerator": "GPU",
    "colab": {
      "gpuType": "T4",
      "provenance": []
    },
    "kernelspec": {
      "display_name": "Python 3 (ipykernel)",
      "language": "python",
      "name": "python3"
    },
    "language_info": {
      "codemirror_mode": {
        "name": "ipython",
        "version": 3
      },
      "file_extension": ".py",
      "mimetype": "text/x-python",
      "name": "python",
      "nbconvert_exporter": "python",
      "pygments_lexer": "ipython3",
      "version": "3.10.9"
    }
  },
  "nbformat": 4,
  "nbformat_minor": 5
}