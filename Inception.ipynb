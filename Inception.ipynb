{
  "cells": [
    {
      "cell_type": "code",
      "source": [],
      "metadata": {
        "id": "llmHCjUgrn3b"
      },
      "id": "llmHCjUgrn3b",
      "execution_count": null,
      "outputs": []
    },
    {
      "cell_type": "code",
      "source": [],
      "metadata": {
        "id": "9xQEelusrn6s"
      },
      "id": "9xQEelusrn6s",
      "execution_count": null,
      "outputs": []
    },
    {
      "cell_type": "code",
      "source": [],
      "metadata": {
        "id": "mxIu-a7Frn99"
      },
      "id": "mxIu-a7Frn99",
      "execution_count": null,
      "outputs": []
    },
    {
      "cell_type": "code",
      "source": [],
      "metadata": {
        "id": "4tI9QGZyroBc"
      },
      "id": "4tI9QGZyroBc",
      "execution_count": null,
      "outputs": []
    },
    {
      "cell_type": "code",
      "source": [
        "# Import necessary libraries\n",
        "import tensorflow as tf\n",
        "from tensorflow.keras.preprocessing.image import ImageDataGenerator\n",
        "from tensorflow.keras.applications import Xception\n",
        "from tensorflow.keras import layers, models\n",
        "import matplotlib.pyplot as plt\n"
      ],
      "metadata": {
        "id": "lZyHJqMrC1kO"
      },
      "id": "lZyHJqMrC1kO",
      "execution_count": 3,
      "outputs": []
    },
    {
      "cell_type": "code",
      "source": [
        "# Define paths\n",
        "train_dir = '/content/drive/MyDrive/Train'\n",
        "valid_dir = '/content/drive/MyDrive/Validation'\n",
        "test_dir = '/content/drive/MyDrive/Test'\n"
      ],
      "metadata": {
        "id": "wz26p0_Trwbc"
      },
      "id": "wz26p0_Trwbc",
      "execution_count": 4,
      "outputs": []
    },
    {
      "cell_type": "code",
      "source": [
        "# Data processing and augmentation\n",
        "train_datagen = ImageDataGenerator(rescale=1./255,\n",
        "                                   shear_range=0.2,\n",
        "                                   zoom_range=0.2,\n",
        "                                   horizontal_flip=True)\n",
        "\n",
        "validation_datagen = ImageDataGenerator(rescale=1./255)\n",
        "\n",
        "train_generator = train_datagen.flow_from_directory(train_dir,\n",
        "                                                    target_size=(299, 299),  # Xception input size\n",
        "                                                    batch_size=32,\n",
        "                                                    class_mode='binary')\n",
        "\n",
        "validation_generator = validation_datagen.flow_from_directory(valid_dir,\n",
        "                                                              target_size=(299, 299),\n",
        "                                                              batch_size=32,\n",
        "                                                              class_mode='binary')\n",
        "\n"
      ],
      "metadata": {
        "colab": {
          "base_uri": "https://localhost:8080/"
        },
        "id": "mQNe87sRrweV",
        "outputId": "59bfbd60-1ee1-4307-b863-227e41bc665f"
      },
      "id": "mQNe87sRrweV",
      "execution_count": 5,
      "outputs": [
        {
          "output_type": "stream",
          "name": "stdout",
          "text": [
            "Found 1322 images belonging to 1 classes.\n",
            "Found 60 images belonging to 1 classes.\n"
          ]
        }
      ]
    },
    {
      "cell_type": "code",
      "source": [
        "# Xception model\n",
        "base_model = Xception(weights='imagenet', include_top=False, input_shape=(299, 299, 3))\n"
      ],
      "metadata": {
        "colab": {
          "base_uri": "https://localhost:8080/"
        },
        "id": "CwsUNJOwrwg7",
        "outputId": "ba2a1e6d-1194-4813-d9da-9a58a269f6f0"
      },
      "id": "CwsUNJOwrwg7",
      "execution_count": 6,
      "outputs": [
        {
          "output_type": "stream",
          "name": "stdout",
          "text": [
            "Downloading data from https://storage.googleapis.com/tensorflow/keras-applications/xception/xception_weights_tf_dim_ordering_tf_kernels_notop.h5\n",
            "83683744/83683744 [==============================] - 5s 0us/step\n"
          ]
        }
      ]
    },
    {
      "cell_type": "code",
      "source": [
        "\n",
        "# Create a custom model on top of Xception\n",
        "model = models.Sequential()\n",
        "model.add(base_model)\n",
        "model.add(layers.GlobalAveragePooling2D())\n",
        "model.add(layers.Dense(128, activation='relu'))\n",
        "model.add(layers.Dropout(0.5))\n",
        "model.add(layers.Dense(1, activation='sigmoid'))\n",
        "\n"
      ],
      "metadata": {
        "id": "CKs8MGQurwkW"
      },
      "id": "CKs8MGQurwkW",
      "execution_count": 7,
      "outputs": []
    },
    {
      "cell_type": "code",
      "source": [
        "# Compile the model\n",
        "model.compile(optimizer='adam',\n",
        "              loss='binary_crossentropy',\n",
        "              metrics=['accuracy'])\n"
      ],
      "metadata": {
        "id": "cFJGKQcIsNKt"
      },
      "id": "cFJGKQcIsNKt",
      "execution_count": 8,
      "outputs": []
    },
    {
      "cell_type": "code",
      "source": [
        "# Model summary\n",
        "model.summary()\n",
        "\n"
      ],
      "metadata": {
        "colab": {
          "base_uri": "https://localhost:8080/"
        },
        "id": "oZtiTSobsNNh",
        "outputId": "c0a39aba-70f2-4ad4-abad-a0c325c9f04e"
      },
      "id": "oZtiTSobsNNh",
      "execution_count": 9,
      "outputs": [
        {
          "output_type": "stream",
          "name": "stdout",
          "text": [
            "Model: \"sequential\"\n",
            "_________________________________________________________________\n",
            " Layer (type)                Output Shape              Param #   \n",
            "=================================================================\n",
            " xception (Functional)       (None, 10, 10, 2048)      20861480  \n",
            "                                                                 \n",
            " global_average_pooling2d (  (None, 2048)              0         \n",
            " GlobalAveragePooling2D)                                         \n",
            "                                                                 \n",
            " dense (Dense)               (None, 128)               262272    \n",
            "                                                                 \n",
            " dropout (Dropout)           (None, 128)               0         \n",
            "                                                                 \n",
            " dense_1 (Dense)             (None, 1)                 129       \n",
            "                                                                 \n",
            "=================================================================\n",
            "Total params: 21123881 (80.58 MB)\n",
            "Trainable params: 21069353 (80.37 MB)\n",
            "Non-trainable params: 54528 (213.00 KB)\n",
            "_________________________________________________________________\n"
          ]
        }
      ]
    },
    {
      "cell_type": "code",
      "source": [
        "# Train the model\n",
        "history = model.fit(train_generator,\n",
        "                    steps_per_epoch=train_generator.samples // train_generator.batch_size,\n",
        "                    epochs=10,\n",
        "                    validation_data=validation_generator,\n",
        "                    validation_steps=validation_generator.samples // validation_generator.batch_size)\n",
        "\n"
      ],
      "metadata": {
        "colab": {
          "base_uri": "https://localhost:8080/"
        },
        "id": "aP5xbf9jsNQb",
        "outputId": "c8d2dc39-354f-492e-a52a-84492c9ec8a3"
      },
      "id": "aP5xbf9jsNQb",
      "execution_count": 10,
      "outputs": [
        {
          "output_type": "stream",
          "name": "stdout",
          "text": [
            "Epoch 1/10\n",
            "41/41 [==============================] - 1305s 31s/step - loss: 0.0289 - accuracy: 0.9775 - val_loss: 3.3521e-09 - val_accuracy: 1.0000\n",
            "Epoch 2/10\n",
            "41/41 [==============================] - 124s 3s/step - loss: 3.3818e-06 - accuracy: 1.0000 - val_loss: 4.5416e-10 - val_accuracy: 1.0000\n",
            "Epoch 3/10\n",
            "41/41 [==============================] - 122s 3s/step - loss: 2.0861e-06 - accuracy: 1.0000 - val_loss: 7.7776e-10 - val_accuracy: 1.0000\n",
            "Epoch 4/10\n",
            "41/41 [==============================] - 136s 3s/step - loss: 3.7291e-06 - accuracy: 1.0000 - val_loss: 1.4544e-09 - val_accuracy: 1.0000\n",
            "Epoch 5/10\n",
            "41/41 [==============================] - 141s 3s/step - loss: 6.8283e-07 - accuracy: 1.0000 - val_loss: 1.5846e-09 - val_accuracy: 1.0000\n",
            "Epoch 6/10\n",
            "41/41 [==============================] - 126s 3s/step - loss: 3.6388e-07 - accuracy: 1.0000 - val_loss: 1.6382e-09 - val_accuracy: 1.0000\n",
            "Epoch 7/10\n",
            "41/41 [==============================] - 124s 3s/step - loss: 2.1383e-07 - accuracy: 1.0000 - val_loss: 2.3034e-09 - val_accuracy: 1.0000\n",
            "Epoch 8/10\n",
            "41/41 [==============================] - 125s 3s/step - loss: 5.2767e-07 - accuracy: 1.0000 - val_loss: 2.7917e-09 - val_accuracy: 1.0000\n",
            "Epoch 9/10\n",
            "41/41 [==============================] - 135s 3s/step - loss: 1.7961e-07 - accuracy: 1.0000 - val_loss: 2.4505e-09 - val_accuracy: 1.0000\n",
            "Epoch 10/10\n",
            "41/41 [==============================] - 125s 3s/step - loss: 3.6511e-07 - accuracy: 1.0000 - val_loss: 1.3837e-09 - val_accuracy: 1.0000\n"
          ]
        }
      ]
    },
    {
      "cell_type": "code",
      "source": [
        "# Plot training history\n",
        "plt.plot(history.history['accuracy'], label='Training Accuracy')\n",
        "plt.plot(history.history['val_accuracy'], label='Validation Accuracy')\n",
        "plt.xlabel('Epochs')\n",
        "plt.ylabel('Accuracy')\n",
        "plt.legend()\n",
        "plt.show()\n",
        "\n"
      ],
      "metadata": {
        "colab": {
          "base_uri": "https://localhost:8080/",
          "height": 449
        },
        "id": "aujfB04OsNT4",
        "outputId": "47c442b1-40ba-4723-d94b-204877f3ca42"
      },
      "id": "aujfB04OsNT4",
      "execution_count": 11,
      "outputs": [
        {
          "output_type": "display_data",
          "data": {
            "text/plain": [
              "<Figure size 640x480 with 1 Axes>"
            ],
            "image/png": "[encoded data removed]"
          },
          "metadata": {}
        }
      ]
    },
    {
      "cell_type": "code",
      "source": [
        "# Evaluate the model on the test set\n",
        "test_datagen = ImageDataGenerator(rescale=1./255)\n",
        "test_generator = test_datagen.flow_from_directory(test_dir,\n",
        "                                                  target_size=(299, 299),\n",
        "                                                  batch_size=32,\n",
        "                                                  class_mode='binary')\n",
        "\n",
        "test_loss, test_acc = model.evaluate(test_generator, steps=test_generator.samples // test_generator.batch_size)\n",
        "print(f'Test Accuracy: {test_acc * 100:.2f}%')\n"
      ],
      "metadata": {
        "colab": {
          "base_uri": "https://localhost:8080/"
        },
        "id": "0mIc3C1NscWf",
        "outputId": "0c7d8ba7-947e-4606-8aa1-382be64f545c"
      },
      "id": "0mIc3C1NscWf",
      "execution_count": 12,
      "outputs": [
        {
          "output_type": "stream",
          "name": "stdout",
          "text": [
            "Found 150 images belonging to 1 classes.\n",
            "4/4 [==============================] - 98s 32s/step - loss: 5.6997e-09 - accuracy: 1.0000\n",
            "Test Accuracy: 100.00%\n"
          ]
        }
      ]
    }
  ],
  "metadata": {
    "kernelspec": {
      "display_name": "Python 3",
      "name": "python3"
    },
    "language_info": {
      "codemirror_mode": {
        "name": "ipython",
        "version": 3
      },
      "file_extension": ".py",
      "mimetype": "text/x-python",
      "name": "python",
      "nbconvert_exporter": "python",
      "pygments_lexer": "ipython3",
      "version": "3.10.9"
    },
    "colab": {
      "provenance": [],
      "gpuType": "T4"
    },
    "accelerator": "GPU"
  },
  "nbformat": 4,
  "nbformat_minor": 5
}